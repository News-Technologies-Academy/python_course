{
  "cells": [
    {
      "cell_type": "markdown",
      "source": [
        "#"
      ],
      "metadata": {
        "nteract": {
          "transient": {
            "deleting": false
          }
        }
      }
    },
    {
      "cell_type": "markdown",
      "source": [
        "# Basic Programming with Python"
      ],
      "metadata": {
        "nteract": {
          "transient": {
            "deleting": false
          }
        }
      }
    },
    {
      "cell_type": "markdown",
      "source": [
        "## Functions and Data Structures"
      ],
      "metadata": {
        "nteract": {
          "transient": {
            "deleting": false
          }
        }
      }
    },
    {
      "cell_type": "markdown",
      "source": [
        "### Functions"
      ],
      "metadata": {
        "nteract": {
          "transient": {
            "deleting": false
          }
        }
      }
    },
    {
      "cell_type": "code",
      "source": [
        "bill = 175.00\n",
        "tax_rate = 15\n",
        "total_tax = (bill * tax_rate) / 100.00\n",
        "print('Total tax', total_tax)"
      ],
      "outputs": [],
      "execution_count": null,
      "metadata": {
        "gather": {
          "logged": 1738513564389
        }
      }
    },
    {
      "cell_type": "code",
      "source": [
        "def calculate_tax(bill, tax_rate):\n",
        "    return (bill * tax_rate) / 100.0\n",
        "\n",
        "def sum(a, b):\n",
        "    print(a + b)\n",
        "\n",
        "result = calculate_tax(100, 5)\n",
        "print(result)\n",
        "sum(2,5)\n",
        "#print('Total Tax', calculate_tax(175.00, 15))\n",
        "#print('Total Tax', calculate_tax(164.33, 22))"
      ],
      "outputs": [],
      "execution_count": null,
      "metadata": {
        "gather": {
          "logged": 1738514046913
        }
      }
    },
    {
      "cell_type": "markdown",
      "source": [
        "#### Variable scope"
      ],
      "metadata": {
        "nteract": {
          "transient": {
            "deleting": false
          }
        }
      }
    },
    {
      "cell_type": "code",
      "source": [
        "# Local scope\n",
        "def get_total(a, b):\n",
        "    #local variable declared inside a function\n",
        "    total = a + b;\n",
        "    return total\n",
        "\n",
        "print(get_total(5, 2))\n",
        "\n",
        "# Accessing variable outside of the function:\n",
        "#print(total)"
      ],
      "outputs": [],
      "execution_count": null,
      "metadata": {
        "gather": {
          "logged": 1738514387038
        }
      }
    },
    {
      "cell_type": "code",
      "source": [
        "# Enclosing scope\n",
        "def get_total(a, b):\n",
        "    #enclosed variable declared inside a function\n",
        "    total = a + b\n",
        "\n",
        "    def double_it():\n",
        "        #local variable\n",
        "        double = total * 2\n",
        "        print(double)\n",
        "\n",
        "    double_it()\n",
        "    #double variable will not be accessible\n",
        "    print(double)\n",
        "\n",
        "    return total\n",
        "\n",
        "print(get_total(2, 5))"
      ],
      "outputs": [],
      "execution_count": null,
      "metadata": {
        "gather": {
          "logged": 1738514866791
        }
      }
    },
    {
      "cell_type": "code",
      "source": [
        "# Global scope\n",
        "special = 5\n",
        "\n",
        "def get_total(a, b):\n",
        "    #enclosed scope variable declared inside a function\n",
        "    total = a + b\n",
        "    print(special)\n",
        "\n",
        "    def double_it():\n",
        "        #local variable\n",
        "        double = total * 2\n",
        "        print(special)\n",
        "\n",
        "    double_it()\n",
        "\n",
        "    return total"
      ],
      "outputs": [],
      "execution_count": null,
      "metadata": {
        "gather": {
          "logged": 1738514845845
        }
      }
    },
    {
      "cell_type": "markdown",
      "source": [
        "### Data Structures"
      ],
      "metadata": {
        "nteract": {
          "transient": {
            "deleting": false
          }
        }
      }
    },
    {
      "cell_type": "markdown",
      "source": [
        "#### List"
      ],
      "metadata": {
        "nteract": {
          "transient": {
            "deleting": false
          }
        }
      }
    },
    {
      "cell_type": "code",
      "source": [
        "list1 = [1, 2, 3, 4, 5]\n",
        "print(list1[2])\n",
        "list2 = ['A', 'B', 'C']\n",
        "list3 = ['Hello', 1, True, 40.22]\n",
        "print(list3[3])\n",
        "print(len(list3))\n",
        "list3.append(12)\n",
        "print(list3)\n",
        "list3.pop(-1)\n",
        "print(list3)\n",
        "\n",
        "for x in list3:\n",
        "    print(x)"
      ],
      "outputs": [],
      "execution_count": null,
      "metadata": {
        "gather": {
          "logged": 1738515584060
        }
      }
    },
    {
      "cell_type": "markdown",
      "source": [
        "#### Tuples"
      ],
      "metadata": {
        "nteract": {
          "transient": {
            "deleting": false
          }
        }
      }
    },
    {
      "cell_type": "code",
      "source": [
        "tuple1 =(1, 'strings', 4.5, True)\n",
        "tuple2 = 5, 'name', 4.8, False\n",
        "# print(type(tuple1))\n",
        "# print(type(tuple2))\n",
        "# print(tuple1[1])\n",
        "#tuple2.count()\n",
        "#print(tuple1.count()) # to verified\n",
        "# print(tuple2.index(False))\n",
        "# for x in tuple2:\n",
        "#     print(x)\n",
        "tuple2[0] = 3\n",
        "print(tuple2)"
      ],
      "outputs": [],
      "execution_count": null,
      "metadata": {
        "gather": {
          "logged": 1738516096563
        }
      }
    },
    {
      "cell_type": "markdown",
      "source": [
        "#### Sets"
      ],
      "metadata": {
        "nteract": {
          "transient": {
            "deleting": false
          }
        }
      }
    },
    {
      "cell_type": "code",
      "source": [
        "set_a = {1, 2, 3, 4, 5}\n",
        "set_a.add(6)\n",
        "#set_a.remove(2)\n",
        "set_a.discard(2)\n",
        "print(set_a)"
      ],
      "outputs": [],
      "execution_count": null,
      "metadata": {
        "gather": {
          "logged": 1738460320513
        }
      }
    },
    {
      "cell_type": "code",
      "source": [
        "set_a = {1, 2, 3, 4, 5}\n",
        "set_b = {4, 5, 6, 7, 8}\n",
        "\n",
        "# union\n",
        "# print(set_a.union(set_b))\n",
        "# print(set_a | set_b)\n",
        "\n",
        "# intersection\n",
        "# print(set_a.intersection(set_b))\n",
        "# print(set_a & set_b)\n",
        "\n",
        "# difference\n",
        "# print(set_a.difference(set_b))\n",
        "# print(set_a - set_b)\n",
        "# print(set_b - set_a)\n",
        "\n",
        "# symmetric difference\n",
        "print(set_a.symmetric_difference(set_b))\n",
        "print(set_a ^ set_b)"
      ],
      "outputs": [],
      "execution_count": null,
      "metadata": {
        "gather": {
          "logged": 1738516767242
        }
      }
    },
    {
      "cell_type": "markdown",
      "source": [
        "#### Dictionaries"
      ],
      "metadata": {
        "nteract": {
          "transient": {
            "deleting": false
          }
        }
      }
    },
    {
      "cell_type": "code",
      "source": [
        "my_dict = {1: 'Test', 'Name': 'Franklin'}\n",
        "print(type(my_dict))\n",
        "print(my_dict)\n",
        "print(my_dict['Name'])\n",
        "my_dict[2] = 'Test 2'\n",
        "print(my_dict)\n",
        "my_dict[1] = 'New test'\n",
        "print(my_dict)\n",
        "del my_dict[2]\n",
        "print(my_dict)"
      ],
      "outputs": [],
      "execution_count": null,
      "metadata": {
        "gather": {
          "logged": 1738517090939
        }
      }
    },
    {
      "cell_type": "code",
      "source": [
        "my_dict = {1: 'Test', 'Name': 'Franklin'}\n",
        "# for x in my_dict:\n",
        "#     print(x)\n",
        "#     print(my_dict[x])\n",
        "\n",
        "for key, value in my_dict.items():\n",
        "    print(str(key) + \": \" + value)"
      ],
      "outputs": [],
      "execution_count": null,
      "metadata": {
        "gather": {
          "logged": 1738517389324
        }
      }
    },
    {
      "cell_type": "markdown",
      "source": [
        "#### Args and Kwargs"
      ],
      "metadata": {
        "nteract": {
          "transient": {
            "deleting": false
          }
        }
      }
    },
    {
      "cell_type": "code",
      "source": [
        "def sum(a, b, c):\n",
        "    return a + b + c\n",
        "\n",
        "#print(sum(4, 5))\n",
        "print(sum(4, 5, 6))"
      ],
      "outputs": [],
      "execution_count": null,
      "metadata": {
        "gather": {
          "logged": 1738518196025
        }
      }
    },
    {
      "cell_type": "code",
      "source": [
        "def sum(*args):\n",
        "    sum = 0\n",
        "    for x in args:\n",
        "        sum += x \n",
        "    return sum\n",
        "\n",
        "print(sum(4, 7))\n",
        "print(sum(7, 8, 9))\n",
        "print(sum(4, 7, 8, 8, 23))"
      ],
      "outputs": [],
      "execution_count": null,
      "metadata": {
        "gather": {
          "logged": 1738518259813
        }
      }
    },
    {
      "cell_type": "code",
      "source": [
        "def sum(**kwargs):\n",
        "    sum = 0\n",
        "    for k, v in kwargs.items():\n",
        "        sum += v\n",
        "    return sum\n",
        "\n",
        "print(sum(big_mac=10, coke=3, frites=5, fites2=8))"
      ],
      "outputs": [],
      "execution_count": null,
      "metadata": {
        "gather": {
          "logged": 1738518479423
        }
      }
    },
    {
      "cell_type": "markdown",
      "source": [
        "#### Choosing and using data structures"
      ],
      "metadata": {
        "nteract": {
          "transient": {
            "deleting": false
          }
        }
      }
    },
    {
      "cell_type": "code",
      "source": [
        "employee_list = [(12345, \"John\", \"DevOps\"), (12458, \"Paul\", \"Cloud\")]\n",
        "\n",
        "def get_employee(id):\n",
        "    for employee in employee_list:\n",
        "        #print(employee)\n",
        "        if employee[0] == id:\n",
        "            return {\"id\": employee[0], \"name\": employee[1], \"department\": employee[2]}\n",
        "\n",
        "print(get_employee(12458))"
      ],
      "outputs": [],
      "execution_count": null,
      "metadata": {
        "gather": {
          "logged": 1738519132812
        }
      }
    },
    {
      "cell_type": "code",
      "source": [
        "employee_dict = {\n",
        "    12345: {\n",
        "        \"id\": \"12345\",\n",
        "        \"name\": \"John\", \n",
        "        \"department\": \"DevOps\"    \n",
        "    },\n",
        "    12458: {\n",
        "        \"id\": \"12458\",\n",
        "        \"name\": \"Paul\", \n",
        "        \"department\": \"Cloud\"    \n",
        "    }\n",
        "}\n",
        "\n",
        "#employee_dict = {12345: {\"id\": \"12345\", \"name\": \"John\", \"department\": \"DevOps\"}, 12458: {\"id\": \"12458\", \"name\": \"Paul\", \"department\": \"Cloud\"}}\n",
        "\n",
        "\n",
        "def get_employee_from_dict(id):\n",
        "    return employee_dict[id];\n",
        "\n",
        "\n",
        "print(get_employee_from_dict(12458))"
      ],
      "outputs": [],
      "execution_count": null,
      "metadata": {
        "gather": {
          "logged": 1738519355868
        }
      }
    },
    {
      "cell_type": "markdown",
      "source": [
        "## Errors, exceptions and file handling"
      ],
      "metadata": {
        "nteract": {
          "transient": {
            "deleting": false
          }
        }
      }
    },
    {
      "cell_type": "markdown",
      "source": [
        "### Commons errors"
      ],
      "metadata": {
        "nteract": {
          "transient": {
            "deleting": false
          }
        }
      }
    },
    {
      "cell_type": "code",
      "source": [
        "if True:\n",
        "    print('ok')\n",
        "\n",
        "def my_function():\n",
        "    return 'Hello'"
      ],
      "outputs": [],
      "execution_count": null,
      "metadata": {
        "gather": {
          "logged": 1738519519431
        }
      }
    },
    {
      "cell_type": "markdown",
      "source": [
        "### Exception handling"
      ],
      "metadata": {
        "nteract": {
          "transient": {
            "deleting": false
          }
        }
      }
    },
    {
      "cell_type": "code",
      "source": [
        "def divide(a, b):\n",
        "    return a / b\n",
        "\n",
        "print(divide(40, 0))"
      ],
      "outputs": [],
      "execution_count": null,
      "metadata": {
        "gather": {
          "logged": 1738519588301
        }
      }
    },
    {
      "cell_type": "code",
      "source": [
        "def divide(a, b):\n",
        "    return a / b\n",
        "\n",
        "try:\n",
        "    answ = divide(40, 0)\n",
        "except:\n",
        "    print('Impossible')\n",
        "#print(answ)"
      ],
      "outputs": [],
      "execution_count": null,
      "metadata": {
        "gather": {
          "logged": 1738519829768
        }
      }
    },
    {
      "cell_type": "code",
      "source": [
        "def divide(a, b):\n",
        "    return a / b\n",
        "\n",
        "try:\n",
        "    answ = divide(40, 0)\n",
        "except Exception as e:\n",
        "    print('We have error', e)\n",
        "    print(e.__class__)"
      ],
      "outputs": [],
      "execution_count": null,
      "metadata": {
        "gather": {
          "logged": 1738519937527
        }
      }
    },
    {
      "cell_type": "markdown",
      "source": [
        "#### Exercise: Exceptions in Python"
      ],
      "metadata": {
        "nteract": {
          "transient": {
            "deleting": false
          }
        }
      }
    },
    {
      "cell_type": "code",
      "source": [
        "items = [1,2,3,4,5]\n",
        "try:\n",
        "    item = items[6]\n",
        "except:\n",
        "    print('Impossible')\n",
        "#print(item)"
      ],
      "outputs": [],
      "execution_count": null,
      "metadata": {
        "gather": {
          "logged": 1738520317301
        }
      }
    },
    {
      "cell_type": "code",
      "source": [
        "def divide_by(a, b):\n",
        "    return a / b\n",
        "\n",
        "\n",
        "ans = divide_by(40, 0)\n",
        "print(ans)"
      ],
      "outputs": [],
      "execution_count": null,
      "metadata": {
        "gather": {
          "logged": 1738520065008
        }
      }
    },
    {
      "cell_type": "code",
      "source": [
        "with open('file_does_not_exist.txt', 'r') as file:\n",
        "    print(file.read())"
      ],
      "outputs": [],
      "execution_count": null,
      "metadata": {
        "gather": {
          "logged": 1738520339629
        }
      }
    },
    {
      "cell_type": "markdown",
      "source": [
        "#### File handling in Python"
      ],
      "metadata": {
        "nteract": {
          "transient": {
            "deleting": false
          }
        }
      }
    },
    {
      "cell_type": "code",
      "source": [
        "file = open(\"file.txt\", \"r\", encoding=\"utf-8\")\n",
        "data = file.read()\n",
        "print(data)\n",
        "file.close()"
      ],
      "outputs": [],
      "execution_count": null,
      "metadata": {}
    },
    {
      "cell_type": "code",
      "source": [
        "with open(\"file.txt\", \"r\", encoding=\"utf-8\") as file:\n",
        "    data = file.read()\n",
        "    print(data)"
      ],
      "outputs": [],
      "execution_count": null,
      "metadata": {}
    },
    {
      "cell_type": "code",
      "source": [
        "\"\"\"creating file\"\"\"\n",
        "with open(\"newfile.txt\", \"w\", encoding=\"utf-8\") as file:\n",
        "    file.write(\"Hello, World! new fie\")"
      ],
      "outputs": [],
      "execution_count": null,
      "metadata": {}
    },
    {
      "cell_type": "code",
      "source": [
        "\"\"\"create file with multiple lines\"\"\"\n",
        "with open(\"newfiles.txt\", \"w\", encoding=\"utf-8\") as file:\n",
        "    file.writelines([\"Hello, World! new fie\", \"\\nHello, World! new fie\", \"\\nHello, World! new file\"])"
      ],
      "outputs": [],
      "execution_count": null,
      "metadata": {}
    },
    {
      "cell_type": "code",
      "source": [
        "\"\"\"add content to the file\"\"\"\n",
        "with open(\"newfiles.txt\", \"a\", encoding=\"utf-8\") as file:\n",
        "    file.writelines(\"\\nHello 2, World! new file\")"
      ],
      "outputs": [],
      "execution_count": null,
      "metadata": {}
    },
    {
      "cell_type": "code",
      "source": [
        "\"\"\"read file with read() method\"\"\"\n",
        "with open(\"sample.txt\", \"r\", encoding=\"utf-8\") as file:\n",
        "    print(file.read())"
      ],
      "outputs": [],
      "execution_count": null,
      "metadata": {}
    },
    {
      "cell_type": "code",
      "source": [
        "\"\"\"read file with readline() method\"\"\"\n",
        "with open(\"sample.txt\", \"r\", encoding=\"utf-8\") as file:\n",
        "    print(file.readline())"
      ],
      "outputs": [],
      "execution_count": null,
      "metadata": {}
    },
    {
      "cell_type": "code",
      "source": [
        "\"\"\"read the file with readlines() method\"\"\"\n",
        "with open(\"sample.txt\", \"r\", encoding=\"utf-8\") as file:\n",
        "    print(file.readlines())"
      ],
      "outputs": [],
      "execution_count": null,
      "metadata": {}
    }
  ],
  "metadata": {
    "kernelspec": {
      "name": "python310-sdkv2",
      "language": "python",
      "display_name": "Python 3.10 - SDK v2"
    },
    "language_info": {
      "name": "python",
      "version": "3.10.14",
      "mimetype": "text/x-python",
      "codemirror_mode": {
        "name": "ipython",
        "version": 3
      },
      "pygments_lexer": "ipython3",
      "nbconvert_exporter": "python",
      "file_extension": ".py"
    },
    "microsoft": {
      "ms_spell_check": {
        "ms_spell_check_language": "en"
      },
      "host": {
        "AzureML": {
          "notebookHasBeenCompleted": true
        }
      }
    },
    "kernel_info": {
      "name": "python310-sdkv2"
    },
    "nteract": {
      "version": "nteract-front-end@1.0.0"
    }
  },
  "nbformat": 4,
  "nbformat_minor": 2
}