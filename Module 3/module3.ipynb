{
  "cells": [
    {
      "cell_type": "markdown",
      "source": [
        "# Programming paradigms"
      ],
      "metadata": {
        "nteract": {
          "transient": {
            "deleting": false
          }
        }
      }
    },
    {
      "cell_type": "markdown",
      "source": [
        "## Functional programming"
      ],
      "metadata": {
        "nteract": {
          "transient": {
            "deleting": false
          }
        }
      }
    },
    {
      "cell_type": "markdown",
      "source": [
        "Function take some input, process it and then produce some outputs.\n",
        "\n",
        "There two types of functions, Traditional and Pure  \n",
        "\n",
        "|                        |  Traditional | Pure |\n",
        "|------------------------|------------- |------|\n",
        "| Access Global State    | Yes          | No   |\n",
        "| Modify gobal variables | Yes          | No   |\n",
        "| Access local state     | Yes          | Yes  |\n",
        "| Change Args            | Yes          | No   |\n",
        "| Output depends on Input| No           | Yes  |  \n",
        "\n",
        "\n",
        "Functional programming in essence is a programming paradigm that utilizes functions for clean, consistent and maintainable code.  \n",
        "Functional programming does not change the data outside the scope of the function.  \n",
        "Functions can be assigned to a variable, passed as an argument or returned to its caller."
      ],
      "metadata": {
        "nteract": {
          "transient": {
            "deleting": false
          }
        }
      }
    },
    {
      "cell_type": "code",
      "source": [
        "# sorted function\n",
        "# coffees = [\"Espresso\", \"Latte\", \"Cappucino\", \"Macchiato\", \"Americano\", \"Decaf\"]\n",
        "# print(sorted(coffees))\n",
        "# print(coffees)\n",
        "\n",
        "def square(x):\n",
        "    return x * x \n",
        "\n",
        "def function(func, list):\n",
        "    new_list = []\n",
        "    for num in list:\n",
        "        new_list.append(func(num))\n",
        "    return new_list\n",
        "\n",
        "list = [ 5, 7, 8, 2]\n",
        "\n",
        "result = function(square, list)\n",
        "print(result)"
      ],
      "outputs": [],
      "execution_count": null,
      "metadata": {
        "gather": {
          "logged": 1739037581100
        }
      }
    },
    {
      "cell_type": "markdown",
      "source": [
        "### Pure function"
      ],
      "metadata": {
        "nteract": {
          "transient": {
            "deleting": false
          }
        }
      }
    },
    {
      "cell_type": "markdown",
      "source": [
        "A pure function is a function that does not change or have any effect on a variable, data, list, or sets beyond its own scope."
      ],
      "metadata": {
        "nteract": {
          "transient": {
            "deleting": false
          }
        }
      }
    },
    {
      "cell_type": "code",
      "source": [
        "global_list = [1, 2, 3]\n",
        "\n",
        "def add(item):\n",
        "    return global_list.append(item)\n",
        "\n",
        "add(4)\n",
        "\n",
        "print(global_list)"
      ],
      "outputs": [],
      "execution_count": null,
      "metadata": {
        "gather": {
          "logged": 1739037786152
        }
      }
    },
    {
      "cell_type": "code",
      "source": [
        "global_list = [1, 2, 3]\n",
        "\n",
        "def add(lst, item):\n",
        "    nl = lst.copy()\n",
        "    nl.append(item)\n",
        "    return nl\n",
        "\n",
        "new_list = add(global_list, 4)\n",
        "\n",
        "print(new_list)\n",
        "print(global_list)"
      ],
      "outputs": [],
      "execution_count": null,
      "metadata": {
        "gather": {
          "logged": 1739038295765
        }
      }
    },
    {
      "cell_type": "code",
      "source": [
        "# Write pure function to add a number to each element of the list\n",
        "list = [4, 8, 6, 5]\n",
        "\n",
        "def add_number(list, number):\n",
        "    new_list = []\n",
        "    for i in list:\n",
        "        new_list.append(i + number)\n",
        "    return new_list\n",
        "print(add_number(list, 3))\n",
        "print(list)"
      ],
      "outputs": [],
      "execution_count": null,
      "metadata": {
        "gather": {
          "logged": 1739039001694
        }
      }
    },
    {
      "cell_type": "markdown",
      "source": [
        "### Map & filter"
      ],
      "metadata": {
        "nteract": {
          "transient": {
            "deleting": false
          }
        }
      }
    },
    {
      "cell_type": "code",
      "source": [
        "menu = [\"espresso\", \"latte\", \"cappucino\", \"macchiato\", \"americano\", \"cortado\", \"decaf\"]\n",
        "\n",
        "def find_coffee(coffee):\n",
        "    if coffee[0] == \"c\":\n",
        "        return coffee\n",
        "\n",
        "map_coffee = map(find_coffee, menu)\n",
        "print(map_coffee)\n",
        "for x in map_coffee:\n",
        "    print(x)\n",
        "\n",
        "# map() take all objects in a list and applies a function"
      ],
      "outputs": [],
      "execution_count": null,
      "metadata": {
        "gather": {
          "logged": 1739065801748
        }
      }
    },
    {
      "cell_type": "code",
      "source": [
        "menu = [\"espresso\", \"latte\", \"cappucino\", \"macchiato\", \"americano\", \"cortado\", \"decaf\"]\n",
        "\n",
        "def find_coffee(coffee):\n",
        "    if coffee[0] == \"c\":\n",
        "        return coffee\n",
        "\n",
        "filter_coffee = filter(find_coffee, menu)\n",
        "print(filter_coffee)\n",
        "for x in filter_coffee:\n",
        "    print(x)\n",
        "\n",
        "# filter() do the same, but take the results and creates a new list with only the true values."
      ],
      "outputs": [],
      "execution_count": null,
      "metadata": {
        "gather": {
          "logged": 1739066066583
        }
      }
    },
    {
      "cell_type": "markdown",
      "source": [
        "### Comprehensions\n",
        "\n",
        "Comprehensions in Python are a way to create a new sequence from an already existing sequence.  \n",
        "There are four main types of comprehensions in Python: \n",
        "- List comprehension \n",
        "- Dictionary comprehension \n",
        "- Set comprehension \n",
        "- Generator comprehension"
      ],
      "metadata": {
        "nteract": {
          "transient": {
            "deleting": false
          }
        }
      }
    },
    {
      "cell_type": "markdown",
      "source": [
        "#### List comprehension  "
      ],
      "metadata": {
        "nteract": {
          "transient": {
            "deleting": false
          }
        }
      }
    },
    {
      "cell_type": "code",
      "source": [
        "# The syntax for list comprehension is:\n",
        "# [ <expression> for x in <sequence> if <condition>]\n",
        "\n",
        "data = [2,3,5,7,11,13,17,19,23,29,31]\n",
        "\n",
        "# Ex1: List comprehension: updating the same list\n",
        "data = [x+3 for x in data]\n",
        "print(\"Updating the list: \", data)\n",
        "\n",
        "# Ex2: List comprehension: creating a different list with updated values\n",
        "new_data = [x*2 for x in data]\n",
        "print(\"Creating new list: \", new_data)\n",
        "\n",
        "# Ex3: With an if-condition: Multiples of four:\n",
        "fourx = [x for x in new_data if x%4 == 0 ]\n",
        "print(\"Divisible by four\", fourx)\n",
        "\n",
        "# Ex4: Alternatively, we can update the list with the if condition as well\n",
        "fourxsub = [x-1 for x in new_data if x%4 == 0 ]\n",
        "print(\"Divisible by four minus one: \", fourxsub)\n",
        "\n",
        "# Ex5: Using range function:\n",
        "nines = [x for x in range(100) if x%9 == 0]\n",
        "print(\"Nines: \", nines)"
      ],
      "outputs": [],
      "execution_count": null,
      "metadata": {
        "gather": {
          "logged": 1739066764517
        }
      }
    },
    {
      "cell_type": "markdown",
      "source": [
        "#### Dictionary comprehension"
      ],
      "metadata": {
        "nteract": {
          "transient": {
            "deleting": false
          }
        }
      }
    },
    {
      "cell_type": "code",
      "source": [
        "# The syntax for dictionary comprehension is:\n",
        "# dict = { key:value for key, value in <sequence> if <condition> }\n",
        "\n",
        "# Using range() function and no input list\n",
        "usingrange = {x:x*2 for x in range(12)}\n",
        "print(\"Using range(): \",usingrange)\n",
        "\n",
        "# Lists\n",
        "months = [\"Jan\", \"Feb\", \"Mar\", \"Apr\", \"May\", \"June\", \"July\", \"Aug\", \"Sept\", \"Oct\", \"Nov\", \"Dec\"]\n",
        "number = [1,2,3,4,5,6,7,8,9,10,11,12]\n",
        "\n",
        "# Using one input list\n",
        "numdict = {x:x**2 for x in number}\n",
        "print(\"Using one input list to create dict: \", numdict)\n",
        "\n",
        "# Using two input lists\n",
        "months_dict = {key:value for (key, value) in zip(number, months)}\n",
        "print(\"Using two lists: \", months_dict)"
      ],
      "outputs": [],
      "execution_count": null,
      "metadata": {
        "gather": {
          "logged": 1739067135908
        }
      }
    },
    {
      "cell_type": "markdown",
      "source": [
        "#### Set comprehension"
      ],
      "metadata": {
        "nteract": {
          "transient": {
            "deleting": false
          }
        }
      }
    },
    {
      "cell_type": "code",
      "source": [
        "set_a = {x for x in range(10,20) if x not in [12,14,16]}\n",
        "print(set_a)"
      ],
      "outputs": [
        {
          "output_type": "stream",
          "name": "stdout",
          "text": "{10, 11, 13, 15, 17, 18, 19}\n"
        }
      ],
      "execution_count": 11,
      "metadata": {
        "gather": {
          "logged": 1739067249731
        }
      }
    },
    {
      "cell_type": "markdown",
      "source": [
        "### "
      ],
      "metadata": {
        "nteract": {
          "transient": {
            "deleting": false
          }
        }
      }
    }
  ],
  "metadata": {
    "kernelspec": {
      "name": "python310-sdkv2",
      "language": "python",
      "display_name": "Python 3.10 - SDK v2"
    },
    "language_info": {
      "name": "python",
      "version": "3.10.14",
      "mimetype": "text/x-python",
      "codemirror_mode": {
        "name": "ipython",
        "version": 3
      },
      "pygments_lexer": "ipython3",
      "nbconvert_exporter": "python",
      "file_extension": ".py"
    },
    "microsoft": {
      "ms_spell_check": {
        "ms_spell_check_language": "en"
      },
      "host": {
        "AzureML": {
          "notebookHasBeenCompleted": true
        }
      }
    },
    "kernel_info": {
      "name": "python310-sdkv2"
    },
    "nteract": {
      "version": "nteract-front-end@1.0.0"
    }
  },
  "nbformat": 4,
  "nbformat_minor": 2
}