{
  "cells": [
    {
      "cell_type": "markdown",
      "source": [
        "# Getting started with Pyton"
      ],
      "metadata": {
        "nteract": {
          "transient": {
            "deleting": false
          }
        }
      }
    },
    {
      "cell_type": "markdown",
      "source": [
        "## Python syntax"
      ],
      "metadata": {
        "nteract": {
          "transient": {
            "deleting": false
          }
        }
      }
    },
    {
      "cell_type": "code",
      "source": [
        "print(\"Hello\")"
      ],
      "outputs": [],
      "execution_count": null,
      "metadata": {
        "gather": {
          "logged": 1738207414505
        }
      }
    },
    {
      "cell_type": "code",
      "source": [
        "print(\"Hello\") print(\"World\")  # syntax error"
      ],
      "outputs": [],
      "execution_count": null,
      "metadata": {
        "gather": {
          "logged": 1738207458904
        }
      }
    },
    {
      "cell_type": "code",
      "source": [
        "print(\"Hello\"); print(\"World\")"
      ],
      "outputs": [],
      "execution_count": null,
      "metadata": {
        "gather": {
          "logged": 1738207520776
        }
      }
    },
    {
      "cell_type": "code",
      "source": [
        "# any ammount of whitespace on a single line is ok\n",
        "x     =        1        +        2\n",
        "print(x)"
      ],
      "outputs": [],
      "execution_count": null,
      "metadata": {
        "gather": {
          "logged": 1738207807351
        }
      }
    },
    {
      "cell_type": "code",
      "source": [
        "x = 1\n",
        "+ 2\n",
        "print(x)"
      ],
      "outputs": [],
      "execution_count": null,
      "metadata": {
        "gather": {
          "logged": 1738207861020
        }
      }
    },
    {
      "cell_type": "code",
      "source": [
        "# Identation\n",
        "name = \"Franklin\"\n",
        "if name == \"Franklin\":\n",
        "  print(name)"
      ],
      "outputs": [],
      "execution_count": null,
      "metadata": {
        "gather": {
          "logged": 1738207717758
        }
      }
    },
    {
      "cell_type": "code",
      "source": [
        "# Identation\n",
        "def say_hello():\n",
        "    return \"Hello\"\n",
        "\n",
        "print(say_hello())"
      ],
      "outputs": [
        {
          "output_type": "stream",
          "name": "stdout",
          "text": "Hello\n"
        }
      ],
      "execution_count": 18,
      "metadata": {
        "gather": {
          "logged": 1738208001727
        }
      }
    },
    {
      "cell_type": "markdown",
      "source": [
        "## Commenting code"
      ],
      "metadata": {
        "nteract": {
          "transient": {
            "deleting": false
          }
        }
      }
    },
    {
      "cell_type": "code",
      "source": [
        "# Single-line comments\n",
        "x = 10\n",
        "print(x)"
      ],
      "outputs": [],
      "execution_count": null,
      "metadata": {}
    },
    {
      "cell_type": "code",
      "source": [
        "# Multi-line \n",
        "# comments"
      ],
      "outputs": [],
      "execution_count": null,
      "metadata": {}
    }
  ],
  "metadata": {
    "kernelspec": {
      "name": "python310-sdkv2",
      "language": "python",
      "display_name": "Python 3.10 - SDK v2"
    },
    "language_info": {
      "name": "python",
      "version": "3.10.14",
      "mimetype": "text/x-python",
      "codemirror_mode": {
        "name": "ipython",
        "version": 3
      },
      "pygments_lexer": "ipython3",
      "nbconvert_exporter": "python",
      "file_extension": ".py"
    },
    "microsoft": {
      "ms_spell_check": {
        "ms_spell_check_language": "en"
      }
    },
    "kernel_info": {
      "name": "python310-sdkv2"
    },
    "nteract": {
      "version": "nteract-front-end@1.0.0"
    }
  },
  "nbformat": 4,
  "nbformat_minor": 2
}