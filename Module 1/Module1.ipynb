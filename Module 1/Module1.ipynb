{
  "cells": [
    {
      "cell_type": "markdown",
      "source": [
        "# Getting started with Pyton"
      ],
      "metadata": {
        "nteract": {
          "transient": {
            "deleting": false
          }
        }
      }
    },
    {
      "cell_type": "markdown",
      "source": [
        "## Python Syntax"
      ],
      "metadata": {
        "nteract": {
          "transient": {
            "deleting": false
          }
        }
      }
    },
    {
      "cell_type": "code",
      "source": [
        "print(\"Hello\")"
      ],
      "outputs": [],
      "execution_count": null,
      "metadata": {
        "gather": {
          "logged": 1738428804398
        }
      }
    },
    {
      "cell_type": "code",
      "source": [
        "print(\"Hello\") print(\"World\")  # syntax error"
      ],
      "outputs": [],
      "execution_count": null,
      "metadata": {
        "gather": {
          "logged": 1738428811004
        }
      }
    },
    {
      "cell_type": "code",
      "source": [
        "print(\"Hello\") \n",
        "print(\"World\")"
      ],
      "outputs": [],
      "execution_count": null,
      "metadata": {
        "gather": {
          "logged": 1738428836779
        }
      }
    },
    {
      "cell_type": "code",
      "source": [
        "# any ammount of whitespace on a single line is ok\n",
        "x = 1 + 2\n",
        "\n",
        "print(x)"
      ],
      "outputs": [],
      "execution_count": null,
      "metadata": {
        "gather": {
          "logged": 1738429111251
        }
      }
    },
    {
      "cell_type": "code",
      "source": [
        "x = 1 \\\n",
        "+ 2\n",
        "print(x)"
      ],
      "outputs": [],
      "execution_count": null,
      "metadata": {
        "gather": {
          "logged": 1738429208815
        }
      }
    },
    {
      "cell_type": "code",
      "source": [
        "# Identation\n",
        "name = \"Franklin\"\n",
        "if name == \"Franklin\":\n",
        "  print(name)\n",
        "print(\"Out if\")"
      ],
      "outputs": [],
      "execution_count": null,
      "metadata": {
        "gather": {
          "logged": 1738429372633
        }
      }
    },
    {
      "cell_type": "code",
      "source": [
        "# Identation\n",
        "def say_hello():\n",
        "    return \"Hello\"\n",
        "print(\"Out function\")\n",
        "\n",
        "print(say_hello())"
      ],
      "outputs": [],
      "execution_count": null,
      "metadata": {
        "gather": {
          "logged": 1738429440345
        }
      }
    },
    {
      "cell_type": "markdown",
      "source": [
        "## Commenting Code"
      ],
      "metadata": {
        "nteract": {
          "transient": {
            "deleting": false
          }
        }
      }
    },
    {
      "cell_type": "code",
      "source": [
        "# Single-line comments\n",
        "x = 10\n",
        "print(x)"
      ],
      "outputs": [],
      "execution_count": null,
      "metadata": {
        "gather": {
          "logged": 1738429577733
        }
      }
    },
    {
      "cell_type": "code",
      "source": [
        "# Multi-line \n",
        "# comments\n",
        "x=5\n",
        "print(x)"
      ],
      "outputs": [],
      "execution_count": null,
      "metadata": {
        "gather": {
          "logged": 1738208133241
        }
      }
    },
    {
      "cell_type": "code",
      "source": [
        "x=3 # to be update after\n",
        "print(x)"
      ],
      "outputs": [],
      "execution_count": null,
      "metadata": {
        "gather": {
          "logged": 1738429632234
        }
      }
    },
    {
      "cell_type": "markdown",
      "source": [
        "## Variables"
      ],
      "metadata": {
        "nteract": {
          "transient": {
            "deleting": false
          }
        }
      }
    },
    {
      "cell_type": "code",
      "source": [
        "x = \"\"\n",
        "print(x)\n",
        "x = \"Franklin\"\n",
        "print(x)\n",
        "print(type(x))"
      ],
      "outputs": [],
      "execution_count": null,
      "metadata": {
        "gather": {
          "logged": 1738430054279
        }
      }
    },
    {
      "cell_type": "code",
      "source": [
        "my_name = \"Franklin\"\n",
        "x = \"Hello\"\n",
        "print(x)\n",
        "print(my_name)"
      ],
      "outputs": [],
      "execution_count": null,
      "metadata": {
        "gather": {
          "logged": 1738430184989
        }
      }
    },
    {
      "cell_type": "code",
      "source": [
        "a=b=c=10\n",
        "print(a)\n",
        "print(b)\n",
        "print(c)"
      ],
      "outputs": [],
      "execution_count": null,
      "metadata": {
        "gather": {
          "logged": 1738430225228
        }
      }
    },
    {
      "cell_type": "code",
      "source": [
        "a,b,c = 1,2,3\n",
        "print(a)\n",
        "print(b)\n",
        "print(c)"
      ],
      "outputs": [],
      "execution_count": null,
      "metadata": {
        "gather": {
          "logged": 1738430255682
        }
      }
    },
    {
      "cell_type": "code",
      "source": [
        "a = 10\n",
        "print(a)\n",
        "a = 2\n",
        "print(a)"
      ],
      "outputs": [],
      "execution_count": null,
      "metadata": {
        "gather": {
          "logged": 1738430301510
        }
      }
    },
    {
      "cell_type": "code",
      "source": [
        "a = 10\n",
        "print(a)\n",
        "del a\n",
        "print(a)"
      ],
      "outputs": [],
      "execution_count": null,
      "metadata": {
        "gather": {
          "logged": 1738430350081
        }
      }
    },
    {
      "cell_type": "markdown",
      "source": [
        "## Basic Data Types"
      ],
      "metadata": {
        "nteract": {
          "transient": {
            "deleting": false
          }
        }
      }
    },
    {
      "cell_type": "markdown",
      "source": [
        "### Numeric"
      ],
      "metadata": {
        "nteract": {
          "transient": {
            "deleting": false
          }
        }
      }
    },
    {
      "cell_type": "code",
      "source": [
        "a = 3      # Integers\n",
        "b = 5.5    # Floats\n",
        "c = 2 + 4j # Complex numbers\n",
        "print(type(a))\n",
        "print(type(b))\n",
        "print(type(c))"
      ],
      "outputs": [],
      "execution_count": null,
      "metadata": {
        "gather": {
          "logged": 1738430461836
        }
      }
    },
    {
      "cell_type": "markdown",
      "source": [
        "### Sequence"
      ],
      "metadata": {
        "nteract": {
          "transient": {
            "deleting": false
          }
        }
      }
    },
    {
      "cell_type": "code",
      "source": [
        "a = \"Hello\"                # String\n",
        "b = [1, 'hello', 4.5, \"A\"] # Lists\n",
        "c = (1, 'hello', 4.5, \"A\") # Tuples\n",
        "print(type(a))\n",
        "print(type(b))\n",
        "print(type(c))"
      ],
      "outputs": [],
      "execution_count": null,
      "metadata": {
        "gather": {
          "logged": 1738430567499
        }
      }
    },
    {
      "cell_type": "markdown",
      "source": [
        "### Dictionary"
      ],
      "metadata": {
        "nteract": {
          "transient": {
            "deleting": false
          }
        }
      }
    },
    {
      "cell_type": "code",
      "source": [
        "ed = {\"Name\": \"Franklin\", \"Work\": \"DevOps\", \"Salary\": 100}\n",
        "print(type(ed))"
      ],
      "outputs": [],
      "execution_count": null,
      "metadata": {
        "gather": {
          "logged": 1738430691581
        }
      }
    },
    {
      "cell_type": "markdown",
      "source": [
        "### Boolean"
      ],
      "metadata": {
        "nteract": {
          "transient": {
            "deleting": false
          }
        }
      }
    },
    {
      "cell_type": "code",
      "source": [
        "print(type(True))  # Boolean True\n",
        "print(type(False)) # Boolean False"
      ],
      "outputs": [],
      "execution_count": null,
      "metadata": {
        "gather": {
          "logged": 1738430729672
        }
      }
    },
    {
      "cell_type": "markdown",
      "source": [
        "### Set"
      ],
      "metadata": {
        "nteract": {
          "transient": {
            "deleting": false
          }
        }
      }
    },
    {
      "cell_type": "code",
      "source": [
        "example_set = {1, 'hello', 4.5, \"A\"}\n",
        "print(type(example_set))"
      ],
      "outputs": [],
      "execution_count": null,
      "metadata": {
        "gather": {
          "logged": 1738430777291
        }
      }
    },
    {
      "cell_type": "markdown",
      "source": [
        "## Strings"
      ],
      "metadata": {
        "nteract": {
          "transient": {
            "deleting": false
          }
        }
      }
    },
    {
      "cell_type": "code",
      "source": [
        "a = 'hello'\n",
        "print(a)\n",
        "\n",
        "b = \"hello\"\n",
        "print(b)"
      ],
      "outputs": [],
      "execution_count": null,
      "metadata": {
        "gather": {
          "logged": 1738430848522
        }
      }
    },
    {
      "cell_type": "code",
      "source": [
        "a = 'This is single line'\n",
        "print(a)\n",
        "\n",
        "b = 'This is multi' \\\n",
        "     ' line string'\n",
        "print(b)"
      ],
      "outputs": [],
      "execution_count": null,
      "metadata": {
        "gather": {
          "logged": 1738430993647
        }
      }
    },
    {
      "cell_type": "code",
      "source": [
        "a = 'Hello'\n",
        "b = 'There!'\n",
        "print(a, b)\n",
        "print('This is my first variable', a)\n",
        "print('This is my second variable', b)\n"
      ],
      "outputs": [],
      "execution_count": null,
      "metadata": {
        "gather": {
          "logged": 1738431253467
        }
      }
    },
    {
      "cell_type": "code",
      "source": [
        "name = 'Franklin'\n",
        "print(name)\n",
        "print(name[-2])\n",
        "print(len(name)) # length"
      ],
      "outputs": [],
      "execution_count": null,
      "metadata": {
        "gather": {
          "logged": 1738431584730
        }
      }
    },
    {
      "cell_type": "markdown",
      "source": [
        "#### Exercise"
      ],
      "metadata": {
        "nteract": {
          "transient": {
            "deleting": false
          }
        }
      }
    },
    {
      "cell_type": "code",
      "source": [
        "a = \"My favorite food is\"\n",
        "b = \"Okok\"\n",
        "# Concatenate the variables a and b\n",
        "# What is the length of variable a\n",
        "print(a, b)\n",
        "print(len(a))"
      ],
      "outputs": [],
      "execution_count": null,
      "metadata": {
        "gather": {
          "logged": 1738432420956
        }
      }
    },
    {
      "cell_type": "markdown",
      "source": [
        "## Flow Control"
      ],
      "metadata": {
        "nteract": {
          "transient": {
            "deleting": false
          }
        }
      }
    },
    {
      "cell_type": "markdown",
      "source": [
        "### Comparison operators"
      ],
      "metadata": {
        "nteract": {
          "transient": {
            "deleting": false
          }
        }
      }
    },
    {
      "cell_type": "code",
      "source": [
        "# Operators: == != < > <= >=\n",
        "\n",
        "a = 5\n",
        "b = 8\n",
        "\n",
        "c = \"Frank\"\n",
        "d = \"Frank\"\n",
        "\n",
        "if c != d:\n",
        "    print(\"ok\")\n",
        "else:\n",
        "    print(\"no\")\n"
      ],
      "outputs": [],
      "execution_count": null,
      "metadata": {
        "gather": {
          "logged": 1738432754832
        }
      }
    },
    {
      "cell_type": "markdown",
      "source": [
        "## Built-in Functions"
      ],
      "metadata": {
        "nteract": {
          "transient": {
            "deleting": false
          }
        }
      }
    },
    {
      "cell_type": "code",
      "source": [
        "#print(\"Hello\")\n",
        "#print(\"Where do you live?\")\n",
        "#location = input()\n",
        "#print(\"So you live in \" + location)\n",
        "#len(\"Hello\")\n",
        "# str(55)\n",
        "# int('45')\n",
        "# float(2)\n",
        "\n",
        "# age = int(input(\"How old are you? \"))\n",
        "# print(type(age))\n",
        "# print(age)\n",
        "# age += 1\n",
        "# print(age)\n",
        "# print(type(age))\n",
        "\n",
        "a = \"21\"\n",
        "print(a)\n",
        "print(type(a))\n",
        "print(type(int(a)))\n",
        "print(type(a))\n",
        "a = 21\n",
        "print(type(a))"
      ],
      "outputs": [],
      "execution_count": null,
      "metadata": {
        "gather": {
          "logged": 1738433820674
        }
      }
    },
    {
      "cell_type": "markdown",
      "source": [
        "## Creating Functions"
      ],
      "metadata": {
        "nteract": {
          "transient": {
            "deleting": false
          }
        }
      }
    },
    {
      "cell_type": "code",
      "source": [
        "def say_hello():\n",
        "    return \"Hello World\""
      ],
      "outputs": [],
      "execution_count": null,
      "metadata": {
        "gather": {
          "logged": 1738433882675
        }
      }
    },
    {
      "cell_type": "code",
      "source": [
        "# With parameters\n",
        "def say_hello(name):\n",
        "    return \"Hello \" + name\n",
        "\n",
        "print(say_hello(\"Franklin\"))"
      ],
      "outputs": [],
      "execution_count": null,
      "metadata": {
        "gather": {
          "logged": 1738433946886
        }
      }
    },
    {
      "cell_type": "markdown",
      "source": [
        "## Type Casting"
      ],
      "metadata": {
        "nteract": {
          "transient": {
            "deleting": false
          }
        }
      }
    },
    {
      "cell_type": "code",
      "source": [
        "a = 2    # implicit\n",
        "int('3') # Explicit to avoid TypeError"
      ],
      "outputs": [],
      "execution_count": null,
      "metadata": {}
    },
    {
      "cell_type": "markdown",
      "source": [
        "## User Input, Console Output"
      ],
      "metadata": {
        "nteract": {
          "transient": {
            "deleting": false
          }
        }
      }
    },
    {
      "cell_type": "code",
      "source": [
        "num1 = input('Please enter the first number: ')\n",
        "num2 = input('Please enter the second number: ')\n",
        "#print(num1 + num2)\n",
        "print(int(num1) + int(num2))\n",
        "print(type(num1))"
      ],
      "outputs": [],
      "execution_count": null,
      "metadata": {
        "gather": {
          "logged": 1738434103808
        }
      }
    },
    {
      "cell_type": "code",
      "source": [
        "str1 = input('Please enter your first name: ')\n",
        "str2 = input('Please enter your second name: ')\n",
        "#print('Hello ' + str1 + ' ' + str2)\n",
        "#print('Hello {} {}'.format(str1, str2))\n",
        "print(f\"Hello {str1} {str2}\")"
      ],
      "outputs": [],
      "execution_count": null,
      "metadata": {
        "gather": {
          "logged": 1738434349127
        }
      }
    },
    {
      "cell_type": "markdown",
      "source": [
        "## "
      ],
      "metadata": {
        "nteract": {
          "transient": {
            "deleting": false
          }
        }
      }
    },
    {
      "cell_type": "markdown",
      "source": [
        "## Math and logical operators"
      ],
      "metadata": {
        "nteract": {
          "transient": {
            "deleting": false
          }
        }
      }
    },
    {
      "cell_type": "code",
      "source": [
        "# math operators\n",
        "print(2 + 2)\n",
        "print(5 - 3)\n",
        "print(35 / 5)\n",
        "print(4 * 4)"
      ],
      "outputs": [
        {
          "output_type": "stream",
          "name": "stdout",
          "text": "4\n2\n7.0\n16\n"
        }
      ],
      "execution_count": 1,
      "metadata": {
        "gather": {
          "logged": 1738513039429
        }
      }
    },
    {
      "cell_type": "code",
      "source": [
        "# Logical operators: and, or, not\n",
        "a = False\n",
        "b = True\n",
        "# if a and b:\n",
        "#     print('All is true 1')\n",
        "\n",
        "# if a or b:\n",
        "#     print('All is true 2')\n",
        "\n",
        "if not(a) or not(b):\n",
        "    print('All is true 3')"
      ],
      "outputs": [],
      "execution_count": null,
      "metadata": {
        "gather": {
          "logged": 1738513062860
        }
      }
    },
    {
      "cell_type": "markdown",
      "source": [
        "## Conditional statements: if / else, else if"
      ],
      "metadata": {
        "nteract": {
          "transient": {
            "deleting": false
          }
        }
      }
    },
    {
      "cell_type": "code",
      "source": [
        "# if\n",
        "#Light is currently off\n",
        "current = False\n",
        "\n",
        "if current:\n",
        "    current = False\n",
        "    print('Turning light off')\n",
        "\n",
        "if not current:\n",
        "    current = True\n",
        "    print('Turning light on')"
      ],
      "outputs": [],
      "execution_count": null,
      "metadata": {
        "gather": {
          "logged": 1738434951922
        }
      }
    },
    {
      "cell_type": "code",
      "source": [
        "# if else\n",
        "current = True\n",
        "\n",
        "if current:\n",
        "    current = True\n",
        "    print('Turning light off')\n",
        "else: \n",
        "    current = False\n",
        "    print('Turning light on')"
      ],
      "outputs": [],
      "execution_count": null,
      "metadata": {
        "gather": {
          "logged": 1738435048210
        }
      }
    },
    {
      "cell_type": "code",
      "source": [
        "# elif\n",
        "loyalty_customer = True\n",
        "total_bill = 124\n",
        "\n",
        "if loyalty_customer and total_bill > 100:\n",
        "    #give 20% discount\n",
        "    total_bill = total_bill - (float(total_bill)/ 100) * 20\n",
        "elif total_bill > 100:\n",
        "    #give 10% discount\n",
        "    total_bill = total_bill - (float(total_bill)/ 100) * 10\n",
        "else:\n",
        "    #sorry no discount, 5% service charge applied.\n",
        "    print('Sorry, no discount ...')\n",
        "\n",
        "print('Total Bill: ', float(total_bill))"
      ],
      "outputs": [],
      "execution_count": null,
      "metadata": {
        "gather": {
          "logged": 1738435194502
        }
      }
    },
    {
      "cell_type": "markdown",
      "source": [
        "## "
      ],
      "metadata": {
        "nteract": {
          "transient": {
            "deleting": false
          }
        }
      }
    },
    {
      "cell_type": "markdown",
      "source": [
        "## Switch / Match  statement"
      ],
      "metadata": {
        "nteract": {
          "transient": {
            "deleting": false
          }
        }
      }
    },
    {
      "cell_type": "code",
      "source": [
        "# without switch\n",
        "http_status = 200\n",
        "\n",
        "if http_status == 200 or http_status == 201:\n",
        "    print(\"Success\")\n",
        "elif http_status == 400:\n",
        "    print(\"Bad request\")\n",
        "elif http_status == 404:\n",
        "    print(\"Not Found\")\n",
        "elif http_status == 500 or http_status == 501:\n",
        "    print(\"Server Error\")\n",
        "else:\n",
        "    print(\"Unknow\")"
      ],
      "outputs": [],
      "execution_count": null,
      "metadata": {
        "gather": {
          "logged": 1738435323743
        }
      }
    },
    {
      "cell_type": "code",
      "source": [
        "# With switch\n",
        "http_status = 205\n",
        "\n",
        "match http_status:\n",
        "    case 200 | 201:\n",
        "        print('Success')\n",
        "    case 400:\n",
        "        print(\"Bad request\")\n",
        "    case 404:\n",
        "        print(\"Not Found\")\n",
        "    case 500 | 501:\n",
        "        print(\"Server Error\")\n",
        "    case _:\n",
        "        print(\"Unknow\")"
      ],
      "outputs": [],
      "execution_count": null,
      "metadata": {
        "gather": {
          "logged": 1738435465379
        }
      }
    },
    {
      "cell_type": "markdown",
      "source": [
        "## Looping: For an While"
      ],
      "metadata": {
        "nteract": {
          "transient": {
            "deleting": false
          }
        }
      }
    },
    {
      "cell_type": "code",
      "source": [
        "# for a in range(1,10):\n",
        "#     print(\"Loop...\", a)\n",
        "\n",
        "favorites_food = [\"Eru\", \"Atieke\", \"Ndole\", \"Couscous\", \"Koki\"]\n",
        "for food in favorites_food:\n",
        "    print(\"I like\", food)"
      ],
      "outputs": [],
      "execution_count": null,
      "metadata": {
        "gather": {
          "logged": 1738435944334
        }
      }
    },
    {
      "cell_type": "code",
      "source": [
        "favorites_food = [\"Eru\", \"Atieke\", \"Ndole\", \"Couscous\", \"Koki\"]\n",
        "# last_position = len(favorites_food) -1\n",
        "# print(last_position)\n",
        "# print(favorites_food[last_position])\n",
        "\n",
        "count = 0 # declare counter\n",
        "\n",
        "while count < len(favorites_food):\n",
        "    print(\"I like\", favorites_food[count])\n",
        "    count += 1"
      ],
      "outputs": [],
      "execution_count": null,
      "metadata": {
        "gather": {
          "logged": 1738436383552
        }
      }
    },
    {
      "cell_type": "code",
      "source": [
        "favorites_food = [\"Eru\", \"Atieke\", \"Ndole\", \"Couscous\", \"Koki\"]\n",
        "\n",
        "for index, food in enumerate(favorites_food):\n",
        "    print(index, food)"
      ],
      "outputs": [],
      "execution_count": null,
      "metadata": {
        "gather": {
          "logged": 1738436442314
        }
      }
    },
    {
      "cell_type": "markdown",
      "source": [
        "#### Exercises"
      ],
      "metadata": {
        "nteract": {
          "transient": {
            "deleting": false
          }
        }
      }
    },
    {
      "cell_type": "code",
      "source": [
        "# In the code snippet, use the for loop to iterates over the contents of the favorites list and prints out a sentence with the dessert name for each item in the list\n",
        "favorites = ['Creme Brulee', 'Apple Pie', 'Churros', 'Tiramisú', 'Chocolate Cake']"
      ],
      "outputs": [],
      "execution_count": null,
      "metadata": {}
    },
    {
      "cell_type": "code",
      "source": [
        "# take the above for loop and convert that to the while loop alternative\n",
        "favorites = ['Creme Brulee', 'Apple Pie', 'Churros', 'Tiramisú', 'Chocolate Cake']"
      ],
      "outputs": [],
      "execution_count": null,
      "metadata": {}
    },
    {
      "cell_type": "markdown",
      "source": [
        "## Control flow and lopps examples"
      ],
      "metadata": {
        "nteract": {
          "transient": {
            "deleting": false
          }
        }
      }
    },
    {
      "cell_type": "code",
      "source": [
        "# if\n",
        "favorites = ['Creme Brulee', 'Apple Pie', 'Churros', 'Tiramisú', 'Chocolate Cake']\n",
        "\n",
        "for dessert in favorites:\n",
        "    if dessert == 'Churros':\n",
        "        print('Yes! One of my favorite desserts is', dessert)"
      ],
      "outputs": [
        {
          "output_type": "stream",
          "name": "stdout",
          "text": "Yes! One of my favorite desserts is Churros\n"
        }
      ],
      "execution_count": 1,
      "metadata": {
        "gather": {
          "logged": 1738513378605
        }
      }
    },
    {
      "cell_type": "code",
      "source": [
        "# if else\n",
        "favorites = ['Pudding', 'Creme Brulee', 'Apple Pie', 'Churros', 'Tiramisú', 'Chocolate Cake']\n",
        "\n",
        "for dessert in favorites:\n",
        "    if dessert == 'Pudding':\n",
        "        print('Yes one of my favorite desserts is', dessert) \n",
        "    else:\n",
        "        print('No sorry, that dessert is not on my list')"
      ],
      "outputs": [],
      "execution_count": null,
      "metadata": {
        "gather": {
          "logged": 1738436779858
        }
      }
    },
    {
      "cell_type": "code",
      "source": [
        "# break\n",
        "favorites = ['Puddin', 'Creme Brulee', 'Pudding', 'Apple Pie', 'Churros', 'Tiramisú', 'Chocolate Cake']\n",
        "\n",
        "for dessert in favorites:\n",
        "    if dessert == 'Pudding':\n",
        "        print('Yes one of my favorite desserts is', dessert)\n",
        "        break \n",
        "    else:\n",
        "        print('No sorry, not a dessert on my list')"
      ],
      "outputs": [
        {
          "output_type": "stream",
          "name": "stdout",
          "text": "No sorry, not a dessert on my list\nNo sorry, not a dessert on my list\nYes one of my favorite desserts is Pudding\n"
        }
      ],
      "execution_count": 2,
      "metadata": {
        "gather": {
          "logged": 1738513397727
        }
      }
    },
    {
      "cell_type": "code",
      "source": [
        "# continue\n",
        "favorites = ['Creme Brulee', 'Apple Pie', 'Churros', 'Tiramisú', 'Chocolate Cake']\n",
        "\n",
        "for dessert in favorites:\n",
        "    if dessert == 'Churros':\n",
        "        continue\n",
        "    print('Other desserts I like are', dessert)"
      ],
      "outputs": [
        {
          "output_type": "stream",
          "name": "stdout",
          "text": "Other desserts I like are Creme Brulee\nOther desserts I like are Apple Pie\nOther desserts I like are Tiramisú\nOther desserts I like are Chocolate Cake\n"
        }
      ],
      "execution_count": 3,
      "metadata": {
        "gather": {
          "logged": 1738513414096
        }
      }
    },
    {
      "cell_type": "code",
      "source": [
        "# pass\n",
        "favorites = ['Creme Brulee', 'Apple Pie', 'Churros', 'Tiramisú', 'Chocolate Cake']\n",
        "\n",
        "for dessert in favorites:\n",
        "    if dessert == 'Churro':\n",
        "        pass\n",
        "    print('Other desserts I like are', dessert)"
      ],
      "outputs": [],
      "execution_count": 4,
      "metadata": {
        "gather": {
          "logged": 1738513427691
        }
      }
    },
    {
      "cell_type": "markdown",
      "source": [
        "## Nested loop"
      ],
      "metadata": {
        "nteract": {
          "transient": {
            "deleting": false
          }
        }
      }
    },
    {
      "cell_type": "code",
      "source": [
        "list1 = [1,2,3,4,5,6,7,8,9]\n",
        "list2 = [1,2,3,4,5,6,7,8,9] \n",
        "\n",
        "count = 0\n",
        "for x in list1: # outer loop, execute 9 times\n",
        "    count += 1\n",
        "    for y in list2: # inner loop, execute 9*9=81 times\n",
        "        count += 1\n",
        "        print(y, end=\" \")\n",
        "    print()\n",
        "print(count)"
      ],
      "outputs": [
        {
          "output_type": "stream",
          "name": "stdout",
          "text": "1 2 3 4 5 6 7 8 9 \n1 2 3 4 5 6 7 8 9 \n1 2 3 4 5 6 7 8 9 \n1 2 3 4 5 6 7 8 9 \n1 2 3 4 5 6 7 8 9 \n1 2 3 4 5 6 7 8 9 \n1 2 3 4 5 6 7 8 9 \n1 2 3 4 5 6 7 8 9 \n1 2 3 4 5 6 7 8 9 \n90\n"
        }
      ],
      "execution_count": 111,
      "metadata": {
        "gather": {
          "logged": 1738437394271
        }
      }
    }
  ],
  "metadata": {
    "kernelspec": {
      "name": "python310-sdkv2",
      "language": "python",
      "display_name": "Python 3.10 - SDK v2"
    },
    "language_info": {
      "name": "python",
      "version": "3.10.14",
      "mimetype": "text/x-python",
      "codemirror_mode": {
        "name": "ipython",
        "version": 3
      },
      "pygments_lexer": "ipython3",
      "nbconvert_exporter": "python",
      "file_extension": ".py"
    },
    "microsoft": {
      "ms_spell_check": {
        "ms_spell_check_language": "en"
      },
      "host": {
        "AzureML": {
          "notebookHasBeenCompleted": true
        }
      }
    },
    "kernel_info": {
      "name": "python310-sdkv2"
    },
    "nteract": {
      "version": "nteract-front-end@1.0.0"
    }
  },
  "nbformat": 4,
  "nbformat_minor": 2
}