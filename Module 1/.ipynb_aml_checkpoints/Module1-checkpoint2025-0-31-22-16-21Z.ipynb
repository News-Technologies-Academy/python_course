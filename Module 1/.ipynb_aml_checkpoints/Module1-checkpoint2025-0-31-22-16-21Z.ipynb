{
  "cells": [
    {
      "cell_type": "markdown",
      "source": [
        "# Getting started with Pyton"
      ],
      "metadata": {
        "nteract": {
          "transient": {
            "deleting": false
          }
        }
      }
    },
    {
      "cell_type": "markdown",
      "source": [
        "## Python Syntax"
      ],
      "metadata": {
        "nteract": {
          "transient": {
            "deleting": false
          }
        }
      }
    },
    {
      "cell_type": "code",
      "source": [
        "print(\"Hello\")"
      ],
      "outputs": [],
      "execution_count": null,
      "metadata": {
        "gather": {
          "logged": 1738207414505
        }
      }
    },
    {
      "cell_type": "code",
      "source": [
        "print(\"Hello\") print(\"World\")  # syntax error"
      ],
      "outputs": [],
      "execution_count": null,
      "metadata": {
        "gather": {
          "logged": 1738207458904
        }
      }
    },
    {
      "cell_type": "code",
      "source": [
        "print(\"Hello\"); print(\"World\")"
      ],
      "outputs": [],
      "execution_count": null,
      "metadata": {
        "gather": {
          "logged": 1738207520776
        }
      }
    },
    {
      "cell_type": "code",
      "source": [
        "# any ammount of whitespace on a single line is ok\n",
        "x     =        1        +        2\n",
        "print(x)"
      ],
      "outputs": [],
      "execution_count": null,
      "metadata": {
        "gather": {
          "logged": 1738207807351
        }
      }
    },
    {
      "cell_type": "code",
      "source": [
        "x = 1\n",
        "+ 2\n",
        "print(x)"
      ],
      "outputs": [],
      "execution_count": null,
      "metadata": {
        "gather": {
          "logged": 1738207861020
        }
      }
    },
    {
      "cell_type": "code",
      "source": [
        "# Identation\n",
        "name = \"Franklin\"\n",
        "if name == \"Franklin\":\n",
        "  print(name)"
      ],
      "outputs": [],
      "execution_count": null,
      "metadata": {
        "gather": {
          "logged": 1738207717758
        }
      }
    },
    {
      "cell_type": "code",
      "source": [
        "# Identation\n",
        "def say_hello():\n",
        "    return \"Hello\"\n",
        "\n",
        "print(say_hello())"
      ],
      "outputs": [],
      "execution_count": null,
      "metadata": {
        "gather": {
          "logged": 1738208001727
        }
      }
    },
    {
      "cell_type": "markdown",
      "source": [
        "## Commenting Code"
      ],
      "metadata": {
        "nteract": {
          "transient": {
            "deleting": false
          }
        }
      }
    },
    {
      "cell_type": "code",
      "source": [
        "# Single-line comments\n",
        "x = 10\n",
        "print(x)"
      ],
      "outputs": [],
      "execution_count": null,
      "metadata": {}
    },
    {
      "cell_type": "code",
      "source": [
        "# Multi-line \n",
        "# comments\n",
        "x=5\n",
        "print(x)"
      ],
      "outputs": [],
      "execution_count": null,
      "metadata": {
        "gather": {
          "logged": 1738208133241
        }
      }
    },
    {
      "cell_type": "code",
      "source": [
        "x=3 # Inline comments\n",
        "print(x)"
      ],
      "outputs": [],
      "execution_count": null,
      "metadata": {
        "gather": {
          "logged": 1738208171250
        }
      }
    },
    {
      "cell_type": "markdown",
      "source": [
        "## Variables"
      ],
      "metadata": {
        "nteract": {
          "transient": {
            "deleting": false
          }
        }
      }
    },
    {
      "cell_type": "code",
      "source": [
        "x = 6\n",
        "print(x)"
      ],
      "outputs": [],
      "execution_count": null,
      "metadata": {
        "gather": {
          "logged": 1738208350312
        }
      }
    },
    {
      "cell_type": "code",
      "source": [
        "x = \"Hello\"\n",
        "print(x)"
      ],
      "outputs": [],
      "execution_count": null,
      "metadata": {
        "gather": {
          "logged": 1738208372187
        }
      }
    },
    {
      "cell_type": "code",
      "source": [
        "a=b=c=10\n",
        "print(a)\n",
        "print(b)\n",
        "print(c)"
      ],
      "outputs": [],
      "execution_count": null,
      "metadata": {
        "gather": {
          "logged": 1738208452596
        }
      }
    },
    {
      "cell_type": "code",
      "source": [
        "a,b,c = 1,2,3\n",
        "print(a)\n",
        "print(b)\n",
        "print(c)"
      ],
      "outputs": [],
      "execution_count": null,
      "metadata": {
        "gather": {
          "logged": 1738208512311
        }
      }
    },
    {
      "cell_type": "code",
      "source": [
        "a = 10\n",
        "print(a)\n",
        "a = 2\n",
        "print(a)"
      ],
      "outputs": [],
      "execution_count": null,
      "metadata": {
        "gather": {
          "logged": 1738208593218
        }
      }
    },
    {
      "cell_type": "code",
      "source": [
        "a = 10\n",
        "print(a)\n",
        "del a\n",
        "print(a)"
      ],
      "outputs": [],
      "execution_count": null,
      "metadata": {
        "gather": {
          "logged": 1738208936687
        }
      }
    },
    {
      "cell_type": "markdown",
      "source": [
        "## Basic Data Types"
      ],
      "metadata": {
        "nteract": {
          "transient": {
            "deleting": false
          }
        }
      }
    },
    {
      "cell_type": "markdown",
      "source": [
        "### Numeric"
      ],
      "metadata": {
        "nteract": {
          "transient": {
            "deleting": false
          }
        }
      }
    },
    {
      "cell_type": "code",
      "source": [
        "a = 3      # Integers\n",
        "b = 5.5    # Floats\n",
        "c = 2 + 4j # Complex numbers\n",
        "print(type(a))\n",
        "print(type(b))\n",
        "print(type(c))"
      ],
      "outputs": [],
      "execution_count": null,
      "metadata": {
        "gather": {
          "logged": 1738209614975
        }
      }
    },
    {
      "cell_type": "markdown",
      "source": [
        "### Sequence"
      ],
      "metadata": {
        "nteract": {
          "transient": {
            "deleting": false
          }
        }
      }
    },
    {
      "cell_type": "code",
      "source": [
        "a = \"Hello\"                # String\n",
        "b = [1, 'hello', 4.5, \"A\"] # Lists\n",
        "c = (1, 'hello', 4.5, \"A\") # Tuples\n",
        "print(type(a))\n",
        "print(type(b))\n",
        "print(type(c))"
      ],
      "outputs": [],
      "execution_count": null,
      "metadata": {
        "gather": {
          "logged": 1738209789083
        }
      }
    },
    {
      "cell_type": "markdown",
      "source": [
        "### Dictionary"
      ],
      "metadata": {
        "nteract": {
          "transient": {
            "deleting": false
          }
        }
      }
    },
    {
      "cell_type": "code",
      "source": [
        "ed = {\"Name\": \"Franklin\", \"Work\": \"DevOps\", \"Salary\": 100}\n",
        "print(type(ed))"
      ],
      "outputs": [],
      "execution_count": null,
      "metadata": {
        "gather": {
          "logged": 1738209906007
        }
      }
    },
    {
      "cell_type": "markdown",
      "source": [
        "### Boolean"
      ],
      "metadata": {
        "nteract": {
          "transient": {
            "deleting": false
          }
        }
      }
    },
    {
      "cell_type": "code",
      "source": [
        "print(type(True))  # Boolean True\n",
        "print(type(False)) # Boolean False"
      ],
      "outputs": [],
      "execution_count": null,
      "metadata": {
        "gather": {
          "logged": 1738209992885
        }
      }
    },
    {
      "cell_type": "markdown",
      "source": [
        "### Set"
      ],
      "metadata": {
        "nteract": {
          "transient": {
            "deleting": false
          }
        }
      }
    },
    {
      "cell_type": "code",
      "source": [
        "example_set = {1, 'hello', 4.5, \"A\"}\n",
        "print(type(example_set))"
      ],
      "outputs": [],
      "execution_count": null,
      "metadata": {
        "gather": {
          "logged": 1738210080998
        }
      }
    },
    {
      "cell_type": "markdown",
      "source": [
        "## Strings"
      ],
      "metadata": {
        "nteract": {
          "transient": {
            "deleting": false
          }
        }
      }
    },
    {
      "cell_type": "code",
      "source": [
        "a = 'hello'\n",
        "print(a)\n",
        "\n",
        "b = \"hello\"\n",
        "print(b)"
      ],
      "outputs": [],
      "execution_count": null,
      "metadata": {
        "gather": {
          "logged": 1738210351630
        }
      }
    },
    {
      "cell_type": "code",
      "source": [
        "a = 'This is single line'\n",
        "print(a)\n",
        "\n",
        "b = 'This is multi' \\\n",
        "     ' line string'\n",
        "print(b)"
      ],
      "outputs": [],
      "execution_count": null,
      "metadata": {
        "gather": {
          "logged": 1738210460016
        }
      }
    },
    {
      "cell_type": "code",
      "source": [
        "a = 'Hello'\n",
        "b = 'There!'\n",
        "print(a + b)"
      ],
      "outputs": [],
      "execution_count": null,
      "metadata": {
        "gather": {
          "logged": 1738211027702
        }
      }
    },
    {
      "cell_type": "code",
      "source": [
        "name = 'Franklin'\n",
        "print(name[3])\n",
        "print(len(name))"
      ],
      "outputs": [],
      "execution_count": null,
      "metadata": {
        "gather": {
          "logged": 1738211127239
        }
      }
    },
    {
      "cell_type": "markdown",
      "source": [
        "#### Exercise"
      ],
      "metadata": {
        "nteract": {
          "transient": {
            "deleting": false
          }
        }
      }
    },
    {
      "cell_type": "code",
      "source": [
        "a = \"My favorite food is\"\n",
        "b = \"Okok\"\n",
        "# Concatenate the variables a and b\n",
        "# What is the length of variable a"
      ],
      "outputs": [],
      "execution_count": null,
      "metadata": {}
    },
    {
      "cell_type": "markdown",
      "source": [
        "## Flow Control"
      ],
      "metadata": {
        "nteract": {
          "transient": {
            "deleting": false
          }
        }
      }
    },
    {
      "cell_type": "markdown",
      "source": [
        "### Comparison operators"
      ],
      "metadata": {
        "nteract": {
          "transient": {
            "deleting": false
          }
        }
      }
    },
    {
      "cell_type": "code",
      "source": [
        "# Operators: == != < > <= >="
      ],
      "outputs": [],
      "execution_count": null,
      "metadata": {}
    },
    {
      "cell_type": "markdown",
      "source": [
        "## Built-in Functions"
      ],
      "metadata": {
        "nteract": {
          "transient": {
            "deleting": false
          }
        }
      }
    },
    {
      "cell_type": "code",
      "source": [
        "print(\"Hello\")\n",
        "print(\"Where do you live?\")\n",
        "location = input()\n",
        "print(\"So you live in \" + location)\n",
        "len(\"Hello\")\n",
        "str(55)\n",
        "int('45')\n",
        "float(2)"
      ],
      "outputs": [],
      "execution_count": null,
      "metadata": {}
    },
    {
      "cell_type": "markdown",
      "source": [
        "## Creating Functions"
      ],
      "metadata": {
        "nteract": {
          "transient": {
            "deleting": false
          }
        }
      }
    },
    {
      "cell_type": "code",
      "source": [
        "def say_hello():\n",
        "    return \"Hello World\""
      ],
      "outputs": [],
      "execution_count": null,
      "metadata": {}
    },
    {
      "cell_type": "code",
      "source": [
        "# With parameters\n",
        "def say_hello(name):\n",
        "    return \"Hello \" + name\n",
        "\n",
        "print(say_hello(\"Franklin\"))"
      ],
      "outputs": [],
      "execution_count": null,
      "metadata": {
        "gather": {
          "logged": 1738212209978
        }
      }
    },
    {
      "cell_type": "markdown",
      "source": [
        "## Type Casting"
      ],
      "metadata": {
        "nteract": {
          "transient": {
            "deleting": false
          }
        }
      }
    },
    {
      "cell_type": "code",
      "source": [
        "a = 2    # implicit\n",
        "int('3') # Explicit to avoid TypeError"
      ],
      "outputs": [],
      "execution_count": null,
      "metadata": {}
    },
    {
      "cell_type": "markdown",
      "source": [
        "## User Input, Console Output"
      ],
      "metadata": {
        "nteract": {
          "transient": {
            "deleting": false
          }
        }
      }
    },
    {
      "cell_type": "code",
      "source": [
        "num1 = input('Please enter the first number: ')\n",
        "num2 = input('Please enter the second number: ')\n",
        "#print(num1 + num2)\n",
        "print(int(num1) + int(num2))\n",
        "print(type(num1))"
      ],
      "outputs": [],
      "execution_count": null,
      "metadata": {
        "gather": {
          "logged": 1738212961777
        }
      }
    },
    {
      "cell_type": "code",
      "source": [
        "str1 = input('Please enter your first name: ')\n",
        "str2 = input('Please enter your second name: ')\n",
        "print('Hello ' + str1 + ' ' + str2)\n",
        "print('Hello {} {}'.format(str1, str2))"
      ],
      "outputs": [],
      "execution_count": null,
      "metadata": {
        "gather": {
          "logged": 1738213272939
        }
      }
    },
    {
      "cell_type": "markdown",
      "source": [
        "## "
      ],
      "metadata": {
        "nteract": {
          "transient": {
            "deleting": false
          }
        }
      }
    },
    {
      "cell_type": "markdown",
      "source": [
        "## Math and logical operators"
      ],
      "metadata": {
        "nteract": {
          "transient": {
            "deleting": false
          }
        }
      }
    },
    {
      "cell_type": "code",
      "source": [
        "# math operators\n",
        "print(2 + 2)\n",
        "print(5 - 3)\n",
        "print(35 / 5)\n",
        "print(4 * 4)"
      ],
      "outputs": [],
      "execution_count": null,
      "metadata": {
        "gather": {
          "logged": 1738361473102
        }
      }
    },
    {
      "cell_type": "code",
      "source": [
        "# Logical operators\n",
        "a = True\n",
        "b = True\n",
        "if a and b:\n",
        "    print('All is true 1')\n",
        "\n",
        "if a or b:\n",
        "    print('All is true 2')\n",
        "\n",
        "if not(a) or not(b):\n",
        "    print('All is true 3')"
      ],
      "outputs": [
        {
          "output_type": "stream",
          "name": "stdout",
          "text": "All is true 2\nAll is true 3\n"
        }
      ],
      "execution_count": 6,
      "metadata": {
        "gather": {
          "logged": 1738361768545
        }
      }
    },
    {
      "cell_type": "markdown",
      "source": [
        "## "
      ],
      "metadata": {
        "nteract": {
          "transient": {
            "deleting": false
          }
        }
      }
    }
  ],
  "metadata": {
    "kernelspec": {
      "name": "python310-sdkv2",
      "language": "python",
      "display_name": "Python 3.10 - SDK v2"
    },
    "language_info": {
      "name": "python",
      "version": "3.10.14",
      "mimetype": "text/x-python",
      "codemirror_mode": {
        "name": "ipython",
        "version": 3
      },
      "pygments_lexer": "ipython3",
      "nbconvert_exporter": "python",
      "file_extension": ".py"
    },
    "microsoft": {
      "ms_spell_check": {
        "ms_spell_check_language": "en"
      },
      "host": {
        "AzureML": {
          "notebookHasBeenCompleted": true
        }
      }
    },
    "kernel_info": {
      "name": "python310-sdkv2"
    },
    "nteract": {
      "version": "nteract-front-end@1.0.0"
    }
  },
  "nbformat": 4,
  "nbformat_minor": 2
}