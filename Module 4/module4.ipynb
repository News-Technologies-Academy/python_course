{
  "cells": [
    {
      "cell_type": "markdown",
      "source": [
        "# Modules, packages, libraries and tools"
      ],
      "metadata": {
        "nteract": {
          "transient": {
            "deleting": false
          }
        }
      }
    },
    {
      "cell_type": "markdown",
      "source": [
        "## Modules\n",
        "\n",
        "Modules come from modular programming.  \n",
        "This means that the functionality of code is broken down into parts or blocks of code.  \n",
        "The first important thing to know is that modules are imported only once during execution"
      ],
      "metadata": {
        "nteract": {
          "transient": {
            "deleting": false
          }
        }
      }
    },
    {
      "cell_type": "code",
      "source": [
        "import sys \n",
        "locations = sys.path\n",
        "print(locations)\n",
        "for i in locations:\n",
        "    print(i)"
      ],
      "outputs": [],
      "execution_count": null,
      "metadata": {
        "gather": {
          "logged": 1739071512197
        }
      }
    },
    {
      "cell_type": "code",
      "source": [
        "import calendar\n",
        "\n",
        "leapdays = calendar.leapdays(2019, 2050)\n",
        "print(leapdays)"
      ],
      "outputs": [],
      "execution_count": null,
      "metadata": {
        "gather": {
          "logged": 1739071631454
        }
      }
    },
    {
      "cell_type": "code",
      "source": [
        "# import statement\n",
        "\n",
        "import math\n",
        "from math import sqrt\n",
        "import math as m\n",
        "from math import factorial as f \n",
        "\n",
        "#sq = math.sqrt(9)\n",
        "sq = sqrt(9)\n",
        "print(sq)\n",
        "\n",
        "cosine = m.cos(0)\n",
        "print(cosine)\n",
        "\n",
        "factorial_10 = f(10)\n",
        "print(factorial_10)"
      ],
      "outputs": [
        {
          "output_type": "stream",
          "name": "stdout",
          "text": "3.0\n1.0\n3628800\n"
        }
      ],
      "execution_count": 8,
      "metadata": {
        "gather": {
          "logged": 1739072688367
        }
      }
    }
  ],
  "metadata": {
    "kernelspec": {
      "name": "python310-sdkv2",
      "language": "python",
      "display_name": "Python 3.10 - SDK v2"
    },
    "language_info": {
      "name": "python",
      "version": "3.10.14",
      "mimetype": "text/x-python",
      "codemirror_mode": {
        "name": "ipython",
        "version": 3
      },
      "pygments_lexer": "ipython3",
      "nbconvert_exporter": "python",
      "file_extension": ".py"
    },
    "microsoft": {
      "ms_spell_check": {
        "ms_spell_check_language": "en"
      },
      "host": {
        "AzureML": {
          "notebookHasBeenCompleted": true
        }
      }
    },
    "kernel_info": {
      "name": "python310-sdkv2"
    },
    "nteract": {
      "version": "nteract-front-end@1.0.0"
    }
  },
  "nbformat": 4,
  "nbformat_minor": 2
}